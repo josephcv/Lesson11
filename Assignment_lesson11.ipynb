{
 "cells": [
  {
   "cell_type": "code",
   "execution_count": 64,
   "metadata": {},
   "outputs": [
    {
     "name": "stdout",
     "output_type": "stream",
     "text": [
      "    X  Y\n",
      "0   7  1\n",
      "1   2  2\n",
      "2   0  0\n",
      "3   3  1\n",
      "4   4  2\n",
      "5   5  3\n",
      "6   6  4\n",
      "7   0  0\n",
      "8   9  1\n",
      "9  10  2\n"
     ]
    }
   ],
   "source": [
    "# Assignment 11.1\n",
    "# var 'count' is for counter\n",
    "# var 'lst' is to create an empty list\n",
    "# Logic: We iterate over the dataframe and check each elemnet, append the counter to a list, when we encounter a zero, \n",
    "#        we reset the counter and append to the list. In the end, the list is appended to the original dataframe\n",
    "\n",
    "\n",
    "import pandas as pd\n",
    "a=pd.DataFrame({'X':[7,2,0,3,4,5,6,0,9,10]})\n",
    "count=0\n",
    "lst=[]\n",
    "for index, row in a.iterrows():\n",
    "    if row[0] == 0:\n",
    "        count = 0\n",
    "        lst.append(count)\n",
    "    else:\n",
    "        count = count+1\n",
    "        lst.append(count)\n",
    "a['Y']=lst\n",
    "print(a)"
   ]
  },
  {
   "cell_type": "code",
   "execution_count": null,
   "metadata": {
    "collapsed": true
   },
   "outputs": [],
   "source": []
  }
 ],
 "metadata": {
  "kernelspec": {
   "display_name": "Python 3",
   "language": "python",
   "name": "python3"
  },
  "language_info": {
   "codemirror_mode": {
    "name": "ipython",
    "version": 3
   },
   "file_extension": ".py",
   "mimetype": "text/x-python",
   "name": "python",
   "nbconvert_exporter": "python",
   "pygments_lexer": "ipython3",
   "version": "3.6.3"
  }
 },
 "nbformat": 4,
 "nbformat_minor": 2
}
